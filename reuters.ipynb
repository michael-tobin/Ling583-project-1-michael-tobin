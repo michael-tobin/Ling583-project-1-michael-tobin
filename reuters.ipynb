{
 "cells": [
  {
   "cell_type": "markdown",
   "id": "shared-chinese",
   "metadata": {},
   "source": [
    "# PROJECT 1: Categorizing news articles\n",
    "\n",
    "### Your task\n",
    "* Given a bunch of Reuters news service articles, develop a set of labels for categorizing them\n",
    "* Labels should be a single word or short phrase. Some articles might fit more than one label, and some might not fit any.\n",
    "* Aim for about 10–15 labels, give or take\n",
    "* Use methods from labs so far (keyword analysis, terminology extraction, topic models)\n",
    "* No specific ‘correct’ answer; the process you use to develop the list is more important than the solution.\n",
    "\n",
    "### Deliverables\n",
    "* List of labels\n",
    "* For each label, the number of articles from the dataset that fit that label\n",
    "* The number of articles that don't fit any of the labels (ideally this won't be a big number)\n",
    "* Annotated notebook showing your process"
   ]
  },
  {
   "cell_type": "code",
   "execution_count": 1,
   "id": "dated-overview",
   "metadata": {},
   "outputs": [],
   "source": [
    "import pandas as pd\n",
    "import numpy as np\n",
    "from cytoolz import *\n",
    "import re\n",
    "from tqdm.auto import tqdm\n",
    "\n",
    "tqdm.pandas()"
   ]
  },
  {
   "cell_type": "code",
   "execution_count": 2,
   "id": "hollow-privilege",
   "metadata": {},
   "outputs": [],
   "source": [
    "df = pd.read_parquet('s3://ling583/project1.parquet', storage_options={'anon':True})"
   ]
  }
 ],
 "metadata": {
  "kernelspec": {
   "display_name": "Python 3",
   "language": "python",
   "name": "python3"
  },
  "language_info": {
   "codemirror_mode": {
    "name": "ipython",
    "version": 3
   },
   "file_extension": ".py",
   "mimetype": "text/x-python",
   "name": "python",
   "nbconvert_exporter": "python",
   "pygments_lexer": "ipython3",
   "version": "3.8.6"
  }
 },
 "nbformat": 4,
 "nbformat_minor": 5
}
